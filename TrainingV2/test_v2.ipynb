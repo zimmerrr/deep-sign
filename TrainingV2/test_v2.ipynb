{
 "cells": [
  {
   "cell_type": "code",
   "execution_count": 1,
   "metadata": {},
   "outputs": [],
   "source": [
    "from datasets import load_from_disk, Array2D\n",
    "import torch\n",
    "import numpy as np\n",
    "import time\n",
    "from collections import Counter\n"
   ]
  },
  {
   "cell_type": "code",
   "execution_count": 2,
   "metadata": {},
   "outputs": [
    {
     "data": {
      "text/plain": [
       "DatasetDict({\n",
       "    train: Dataset({\n",
       "        features: ['id', 'label', 'category', 'file', 'pose', 'face', 'lh', 'rh', 'pose_mean', 'face_mean', 'lh_mean', 'rh_mean', 'pose_angles', 'lh_angles', 'rh_angles', 'fps', 'keypoints_length'],\n",
       "        num_rows: 4752\n",
       "    })\n",
       "    test: Dataset({\n",
       "        features: ['id', 'label', 'category', 'file', 'pose', 'face', 'lh', 'rh', 'pose_mean', 'face_mean', 'lh_mean', 'rh_mean', 'pose_angles', 'lh_angles', 'rh_angles', 'fps', 'keypoints_length'],\n",
       "        num_rows: 1189\n",
       "    })\n",
       "})"
      ]
     },
     "execution_count": 2,
     "metadata": {},
     "output_type": "execute_result"
    }
   ],
   "source": [
    "ds = load_from_disk(\"../datasets_cache/v4-fsl-143-v1-v2-20fps-with-flipped\")\n",
    "ds\n"
   ]
  },
  {
   "cell_type": "code",
   "execution_count": 3,
   "metadata": {},
   "outputs": [
    {
     "name": "stdout",
     "output_type": "stream",
     "text": [
      "[('IDLE', 71), ('CORRECT', 35), ('NOVEMBER', 35), ('DECEMBER', 35), ('AUGUST', 35), ('GOOD EVENING', 35), ('NICE TO MEET YOU', 35), ('DRINK', 34), ('JULY', 34), ('COUSIN', 34), ('GREEN', 34), ('DEAF', 34), ('NO', 34), ('SEVEN', 34), ('WRONG', 34), ('I (ME)', 34), ('M', 34), ('YOURS', 34), ('TOMORROW', 34), ('MINE', 34), ('O', 34), ('D', 34), ('KNOW', 34), ('BOY', 34), ('F', 34), ('W', 34), ('Q', 34), ('J', 34), ('N', 34), ('X', 34), ('Y', 34), ('V', 34), ('JUICE', 34), ('GOOD AFTERNOON', 34), ('A', 34), ('U', 34), ('WE', 34), ('I', 34), ('YOU ARE BEAUTIFUL', 34), ('K', 34), ('S', 34), ('WHAT IS YOUR NAME', 34), ('EAT', 33), ('EIGHT', 33), ('MY', 33), ('IM SORRY', 33), ('YOU', 33), ('UNCLE', 33), ('FAST', 33), ('G', 33), ('COLD', 33), ('P', 33), ('SUGAR', 33), ('DON’T UNDERSTAND', 33), ('MAY', 33), ('C', 33), ('L', 33), ('Z', 33), ('R', 33), ('B', 33), ('HOW OLD ARE YOU', 33), ('HOW ARE YOU', 33), ('T', 33), ('SLOW', 33), ('WEELCHAIR PERSON', 32), ('YELLOW', 32), ('RED', 32), ('FIVE', 32), ('ONE', 32), ('H', 32), ('TWO', 32), ('BLUE', 32), ('ORANGE', 32), ('TODAY', 32), ('FATHER', 32), ('FOUR', 32), ('THREE', 32), ('MOTHER', 32), ('NINE ', 32), ('MARRIED', 32), ('LIGHT', 32), ('HELLO', 32), ('GRANDMOTHER', 32), ('UNDERSTAND', 32), ('BLIND', 32), ('WHITE', 32), ('AUNTIE', 32), ('IM FINE', 32), ('PARENTS', 32), ('YOURE WELCOME', 32), ('YES', 32), ('TEN', 32), ('DON’T KNOW', 32), ('GRAY', 32), ('EGG', 32), ('WINE', 32), ('HARD OF HEARING', 32), ('SIX', 32), ('THANK YOU', 32), ('BLACK', 32), ('BROWN', 32), ('PINK', 32), ('GIRL', 32), ('FISH', 32), ('OCTOBER', 32), ('BEER', 32), ('DARK', 32), ('MILK', 32), ('YESTERDAY', 32), ('CRAB', 32), ('HOT', 32), ('DAUGHTER', 32), ('VIOLET', 32), ('APRIL', 32), ('SEPTEMBER', 32), ('SUNDAY', 32), ('MEAT', 32), ('LONGANISA', 32), ('RICE', 32), ('MARCH', 32), ('WOMAN', 32), ('MONDAY', 32), ('TUESDAY', 32), ('SON', 32), ('JANUARY', 32), ('WEDNESDAY', 32), ('COFFEE', 32), ('CHICKEN', 32), ('BREAD', 32), ('FRIDAY', 32), ('E', 32), ('TEA', 32), ('SHRIMP', 32), ('JUNE', 32), ('THURSDAY', 32), ('MAN', 32), ('SATURDAY', 32), ('DEAF BLIND', 32), ('GOOD MORNING', 32), ('SEE YOU TOMORROW', 32), ('NO SUGAR', 32), ('SPAGHETTI', 32), ('FEBRUARY', 30), ('GRANDFATHER', 29)]\n",
      "[('IDLE', 18), ('CORRECT', 9), ('EAT', 9), ('EIGHT', 9), ('YOU', 9), ('MY', 9), ('FAST', 9), ('G', 9), ('NOVEMBER', 9), ('UNCLE', 9), ('SUGAR', 9), ('COLD', 9), ('DON’T UNDERSTAND', 9), ('DECEMBER', 9), ('AUGUST', 9), ('C', 9), ('R', 9), ('MAY', 9), ('P', 9), ('Z', 9), ('HOW ARE YOU', 9), ('L', 9), ('B', 9), ('HOW OLD ARE YOU', 9), ('SLOW', 9), ('T', 9), ('GOOD EVENING', 9), ('NICE TO MEET YOU', 9), ('IM SORRY', 9), ('WEELCHAIR PERSON', 8), ('YELLOW', 8), ('RED', 8), ('TWO', 8), ('BLUE', 8), ('ONE', 8), ('JULY', 8), ('FOUR', 8), ('DRINK', 8), ('FIVE', 8), ('ORANGE', 8), ('THREE', 8), ('GREEN', 8), ('GRANDMOTHER', 8), ('NINE ', 8), ('HELLO', 8), ('IM FINE', 8), ('BLIND', 8), ('YES', 8), ('GRAY', 8), ('LIGHT', 8), ('MOTHER', 8), ('FATHER', 8), ('PARENTS', 8), ('TODAY', 8), ('NO', 8), ('SEVEN', 8), ('AUNTIE', 8), ('WHITE', 8), ('MARRIED', 8), ('I (ME)', 8), ('SIX', 8), ('HARD OF HEARING', 8), ('WRONG', 8), ('THANK YOU', 8), ('H', 8), ('TEN', 8), ('PINK', 8), ('BLACK', 8), ('MINE', 8), ('FISH', 8), ('GIRL', 8), ('DON’T KNOW', 8), ('APRIL', 8), ('DEAF', 8), ('MILK', 8), ('UNDERSTAND', 8), ('TOMORROW', 8), ('DAUGHTER', 8), ('CRAB', 8), ('YOURE WELCOME', 8), ('DARK', 8), ('D', 8), ('KNOW', 8), ('COUSIN', 8), ('HOT', 8), ('BEER', 8), ('SEPTEMBER', 8), ('OCTOBER', 8), ('BOY', 8), ('BROWN', 8), ('YESTERDAY', 8), ('EGG', 8), ('MONDAY', 8), ('E', 8), ('F', 8), ('MARCH', 8), ('THURSDAY', 8), ('JANUARY', 8), ('RICE', 8), ('U', 8), ('SON', 8), ('WEDNESDAY', 8), ('FEBRUARY', 8), ('VIOLET', 8), ('SHRIMP', 8), ('WOMAN', 8), ('TUESDAY', 8), ('LONGANISA', 8), ('SUNDAY', 8), ('X', 8), ('MEAT', 8), ('CHICKEN', 8), ('SEE YOU TOMORROW', 8), ('BREAD', 8), ('SATURDAY', 8), ('GOOD AFTERNOON', 8), ('W', 8), ('COFFEE', 8), ('YOURS', 8), ('MAN', 8), ('WINE', 8), ('Y', 8), ('JUICE', 8), ('FRIDAY', 8), ('GOOD MORNING', 8), ('Q', 8), ('TEA', 8), ('DEAF BLIND', 8), ('V', 8), ('M', 8), ('N', 8), ('J', 8), ('JUNE', 8), ('WE', 8), ('A', 8), ('I', 8), ('NO SUGAR', 8), ('K', 8), ('S', 8), ('YOU ARE BEAUTIFUL', 8), ('SPAGHETTI', 8), ('WHAT IS YOUR NAME', 8), ('O', 8), ('GRANDFATHER', 7)]\n"
     ]
    }
   ],
   "source": [
    "train_ctr = Counter(ds['train']['label']).most_common()\n",
    "test_ctr = Counter(ds['test']['label']).most_common()\n",
    "feature = ds[\"train\"].features['label']\n",
    "\n",
    "\n",
    "train_ctr = list(map(lambda item: (feature.int2str(item[0]), item[1]), train_ctr))\n",
    "test_ctr = list(map(lambda item: (feature.int2str(item[0]), item[1]), test_ctr))\n",
    "\n",
    "print(train_ctr)\n",
    "print(test_ctr)"
   ]
  },
  {
   "cell_type": "code",
   "execution_count": 4,
   "metadata": {},
   "outputs": [
    {
     "name": "stdout",
     "output_type": "stream",
     "text": [
      "[(28, 288), (27, 282), (30, 268), (31, 257), (26, 241), (25, 240), (29, 240), (32, 220), (24, 185), (33, 164), (23, 160), (22, 136), (34, 136), (36, 127), (35, 106), (37, 105), (21, 88), (38, 80), (39, 62), (20, 59), (40, 51), (19, 44), (43, 42), (41, 41), (42, 40), (44, 32), (18, 30), (65, 26), (57, 25), (45, 24), (58, 22), (63, 22), (56, 20), (59, 20), (62, 20), (53, 19), (54, 19), (64, 19), (75, 19), (111, 19), (73, 18), (55, 16), (68, 16), (69, 16), (71, 16), (60, 15), (48, 14), (52, 14), (66, 14), (81, 14), (61, 13), (67, 13), (77, 13), (104, 13), (17, 12), (46, 12), (49, 12), (79, 12), (47, 11), (50, 11), (76, 11), (51, 10), (70, 10), (103, 10), (16, 9), (72, 9), (74, 9), (95, 9), (102, 9), (114, 9), (82, 8), (94, 8), (106, 8), (128, 8), (144, 8), (160, 8), (167, 8), (112, 7), (133, 7), (162, 7), (80, 6), (88, 6), (89, 6), (93, 6), (97, 6), (105, 6), (107, 6), (125, 6), (150, 6), (163, 6), (175, 6), (176, 6), (15, 5), (92, 5), (96, 5), (108, 5), (109, 5), (110, 5), (122, 5), (123, 5), (153, 5), (158, 5), (171, 5), (181, 5), (196, 5), (78, 4), (91, 4), (99, 4), (113, 4), (124, 4), (126, 4), (129, 4), (140, 4), (142, 4), (146, 4), (147, 4), (155, 4), (166, 4), (169, 4), (170, 4), (174, 4), (14, 3), (85, 3), (90, 3), (100, 3), (115, 3), (127, 3), (139, 3), (143, 3), (148, 3), (151, 3), (152, 3), (159, 3), (164, 3), (168, 3), (180, 3), (182, 3), (83, 2), (84, 2), (86, 2), (98, 2), (101, 2), (116, 2), (117, 2), (118, 2), (120, 2), (130, 2), (131, 2), (136, 2), (138, 2), (149, 2), (165, 2), (173, 2), (178, 2), (192, 2), (392, 2), (12, 1), (13, 1), (87, 1), (121, 1), (135, 1), (145, 1), (154, 1), (156, 1), (157, 1), (161, 1), (177, 1), (179, 1), (184, 1), (186, 1), (187, 1), (195, 1), (199, 1), (200, 1), (252, 1), (254, 1)]\n",
      "[(27, 82), (28, 76), (26, 65), (29, 64), (30, 57), (24, 54), (31, 53), (32, 53), (25, 46), (22, 40), (33, 40), (23, 35), (35, 35), (21, 29), (34, 28), (36, 28), (37, 19), (42, 15), (20, 14), (38, 14), (39, 13), (43, 11), (18, 10), (44, 10), (19, 9), (40, 9), (41, 8), (45, 8), (81, 8), (17, 7), (46, 7), (47, 7), (53, 7), (54, 7), (56, 7), (66, 6), (68, 6), (63, 5), (64, 5), (65, 5), (74, 5), (95, 5), (15, 4), (49, 4), (52, 4), (57, 4), (58, 4), (60, 4), (62, 4), (67, 4), (70, 4), (71, 4), (73, 4), (106, 4), (50, 3), (51, 3), (55, 3), (61, 3), (69, 3), (72, 3), (75, 3), (76, 3), (82, 3), (87, 3), (100, 3), (103, 3), (104, 3), (111, 3), (127, 3), (173, 3), (48, 2), (59, 2), (77, 2), (80, 2), (94, 2), (99, 2), (105, 2), (110, 2), (118, 2), (120, 2), (122, 2), (123, 2), (124, 2), (125, 2), (126, 2), (145, 2), (151, 2), (159, 2), (169, 2), (180, 2), (192, 2), (210, 2), (16, 1), (83, 1), (85, 1), (86, 1), (88, 1), (89, 1), (92, 1), (97, 1), (107, 1), (109, 1), (112, 1), (114, 1), (115, 1), (117, 1), (121, 1), (128, 1), (129, 1), (133, 1), (134, 1), (138, 1), (142, 1), (146, 1), (148, 1), (150, 1), (153, 1), (157, 1), (160, 1), (163, 1), (165, 1), (168, 1), (170, 1), (171, 1), (174, 1), (176, 1), (179, 1), (181, 1), (182, 1)]\n",
      "min train 12 min test 15\n",
      "max train 392 max test 210\n",
      "avg train 42.47937710437711 avg test 41.894028595458366\n"
     ]
    }
   ],
   "source": [
    "train_ctr = Counter(ds[\"train\"][\"keypoints_length\"]).most_common()\n",
    "test_ctr = Counter(ds[\"test\"][\"keypoints_length\"]).most_common()\n",
    "\n",
    "print(train_ctr)\n",
    "print(test_ctr)\n",
    "print(\n",
    "    \"min train\",\n",
    "    min(ds[\"train\"][\"keypoints_length\"]),\n",
    "    \"min test\",\n",
    "    min(ds[\"test\"][\"keypoints_length\"]),\n",
    ")\n",
    "print(\n",
    "    \"max train\",\n",
    "    max(ds[\"train\"][\"keypoints_length\"]),\n",
    "    \"max test\",\n",
    "    max(ds[\"test\"][\"keypoints_length\"]),\n",
    ")\n",
    "print(\n",
    "    \"avg train\",\n",
    "    sum(ds[\"train\"][\"keypoints_length\"]) / len(ds[\"train\"][\"keypoints_length\"]),\n",
    "    \"avg test\",\n",
    "    sum(ds[\"test\"][\"keypoints_length\"]) / len(ds[\"test\"][\"keypoints_length\"]),\n",
    ")"
   ]
  },
  {
   "cell_type": "code",
   "execution_count": 7,
   "metadata": {},
   "outputs": [
    {
     "data": {
      "application/vnd.jupyter.widget-view+json": {
       "model_id": "5d50999a9da64de78392da3935e350e7",
       "version_major": 2,
       "version_minor": 0
      },
      "text/plain": [
       "Filter:   0%|          | 0/4752 [00:00<?, ? examples/s]"
      ]
     },
     "metadata": {},
     "output_type": "display_data"
    },
    {
     "data": {
      "application/vnd.jupyter.widget-view+json": {
       "model_id": "81bffa66ad694799ae3cbfaa5c061284",
       "version_major": 2,
       "version_minor": 0
      },
      "text/plain": [
       "Filter:   0%|          | 0/1189 [00:00<?, ? examples/s]"
      ]
     },
     "metadata": {},
     "output_type": "display_data"
    },
    {
     "name": "stdout",
     "output_type": "stream",
     "text": [
      "../Dataset/fsl-143-v1\\clips/1\\15.MOV\n"
     ]
    }
   ],
   "source": [
    "long = ds.filter(lambda x: x[\"keypoints_length\"] > 300)\n",
    "print(ds[\"train\"][\"file\"][0])"
   ]
  },
  {
   "cell_type": "code",
   "execution_count": 9,
   "metadata": {},
   "outputs": [
    {
     "name": "stdout",
     "output_type": "stream",
     "text": [
      "-1.045974027929884e-09\n",
      "-3.83817788326379e-09\n",
      "2.5964144504431524e-09\n"
     ]
    }
   ],
   "source": [
    "pose = ds[\"train\"][0][\"pose\"][0]\n",
    "print(np.mean(pose[0::4]))\n",
    "print(np.mean(pose[1::4]))\n",
    "print(np.mean(pose[2::4]))\n",
    "# test = torch.concat([pose, face, rh, lh])\n",
    "# print(test.shape)"
   ]
  },
  {
   "cell_type": "code",
   "execution_count": 3,
   "metadata": {},
   "outputs": [
    {
     "data": {
      "text/plain": [
       "{'id': Value(dtype='int64', id=None),\n",
       " 'label': ClassLabel(names=['A', 'APRIL', 'AUGUST', 'AUNTIE', 'B', 'BEER', 'BLACK', 'BLIND', 'BLUE', 'BOY', 'BREAD', 'BROWN', 'C', 'CHICKEN', 'COFFEE', 'COLD', 'CORRECT', 'COUSIN', 'CRAB', 'D', 'DARK', 'DAUGHTER', 'DEAF', 'DEAF BLIND', 'DECEMBER', 'DON’T KNOW', 'DON’T UNDERSTAND', 'DRINK', 'E', 'EAT', 'EGG', 'EIGHT', 'F', 'FAST', 'FATHER', 'FEBRUARY', 'FISH', 'FIVE', 'FOUR', 'FRIDAY', 'G', 'GIRL', 'GOOD AFTERNOON', 'GOOD EVENING', 'GOOD MORNING', 'GRANDFATHER', 'GRANDMOTHER', 'GRAY', 'GREEN', 'H', 'HARD OF HEARING', 'HELLO', 'HOT', 'HOW ARE YOU', 'HOW OLD ARE YOU', 'I', 'I (ME)', 'IDLE', 'IM FINE', 'IM SORRY', 'J', 'JANUARY', 'JUICE', 'JULY', 'JUNE', 'K', 'KNOW', 'L', 'LIGHT', 'LONGANISA', 'M', 'MAN', 'MARCH', 'MARRIED', 'MAY', 'MEAT', 'MILK', 'MINE', 'MONDAY', 'MOTHER', 'MY', 'N', 'NICE TO MEET YOU', 'NINE ', 'NO', 'NO SUGAR', 'NOVEMBER', 'O', 'OCTOBER', 'ONE', 'ORANGE', 'P', 'PARENTS', 'PINK', 'Q', 'R', 'RED', 'RICE', 'S', 'SATURDAY', 'SEE YOU TOMORROW', 'SEPTEMBER', 'SEVEN', 'SHRIMP', 'SIX', 'SLOW', 'SON', 'SPAGHETTI', 'SUGAR', 'SUNDAY', 'T', 'TEA', 'TEN', 'THANK YOU', 'THREE', 'THURSDAY', 'TODAY', 'TOMORROW', 'TUESDAY', 'TWO', 'U', 'UNCLE', 'UNDERSTAND', 'V', 'VIOLET', 'W', 'WE', 'WEDNESDAY', 'WEELCHAIR PERSON', 'WHAT IS YOUR NAME', 'WHITE', 'WINE', 'WOMAN', 'WRONG', 'X', 'Y', 'YELLOW', 'YES', 'YESTERDAY', 'YOU', 'YOU ARE BEAUTIFUL', 'YOURE WELCOME', 'YOURS', 'Z'], id=None),\n",
       " 'category': ClassLabel(names=['ALPHABET', 'CALENDAR', 'COLOR', 'DAYS', 'DRINK', 'FAMILY', 'FOOD', 'GREETING', 'IDLE', 'NUMBER', 'PRONOUNS', 'QUESTION', 'RELATIONSHIPS', 'SURVIVAL', 'VERB'], id=None),\n",
       " 'file': Value(dtype='string', id=None),\n",
       " 'keypoints': Array2D(shape=(None, 1662), dtype='float32', id=None),\n",
       " 'fps': Value(dtype='float64', id=None),\n",
       " 'keypoints_length': Value(dtype='int64', id=None)}"
      ]
     },
     "execution_count": 3,
     "metadata": {},
     "output_type": "execute_result"
    }
   ],
   "source": [
    "ds[\"train\"].features\n",
    "# ds[\"train\"].flatten()"
   ]
  },
  {
   "cell_type": "code",
   "execution_count": 10,
   "metadata": {},
   "outputs": [],
   "source": [
    "data = ds[\"train\"].filter(lambda x: x[\"keypoints_length\"] > 150, num_proc=4)"
   ]
  },
  {
   "cell_type": "code",
   "execution_count": 13,
   "metadata": {},
   "outputs": [
    {
     "data": {
      "text/plain": [
       "['../Dataset/fsl-143-v1\\\\clips/125\\\\7.mp4',\n",
       " '../Dataset/fsl-143-v1\\\\clips/123\\\\8.mp4',\n",
       " '../Dataset/fsl-143-v1\\\\clips/125\\\\8.mp4',\n",
       " '../Dataset/fsl-143-v1\\\\clips/124\\\\8.mp4',\n",
       " '../Dataset/fsl-143-v1\\\\clips/121\\\\13.mp4',\n",
       " '../Dataset/fsl-143-v1\\\\clips/131\\\\12.mp4',\n",
       " '../Dataset/fsl-143-v1\\\\clips/131\\\\13.mp4',\n",
       " '../Dataset/fsl-143-v1\\\\clips/122\\\\7.mp4',\n",
       " '../Dataset/fsl-143-v1\\\\clips/134\\\\7.mp4',\n",
       " '../Dataset/fsl-143-v1\\\\clips/139\\\\10.mp4',\n",
       " '../Dataset/fsl-143-v1\\\\clips/121\\\\7.mp4',\n",
       " '../Dataset/fsl-143-v1\\\\clips/134\\\\12.mp4',\n",
       " '../Dataset/fsl-143-v1\\\\clips/140\\\\10.mp4',\n",
       " '../Dataset/fsl-143-v1\\\\clips/122\\\\12.mp4',\n",
       " '../Dataset/fsl-143-v1\\\\clips/130\\\\10.mp4',\n",
       " '../Dataset/fsl-143-v1\\\\clips/140\\\\12.mp4',\n",
       " '../Dataset/fsl-143-v1\\\\clips/138\\\\13.mp4',\n",
       " '../Dataset/fsl-143-v1\\\\clips/126\\\\12.mp4',\n",
       " '../Dataset/fsl-143-v1\\\\clips/135\\\\11.mp4',\n",
       " '../Dataset/fsl-143-v1\\\\clips/134\\\\11.mp4',\n",
       " '../Dataset/fsl-143-v1\\\\clips/124\\\\12.mp4',\n",
       " '../Dataset/fsl-143-v1\\\\clips/138\\\\7.mp4',\n",
       " '../Dataset/fsl-143-v1\\\\clips/121\\\\11.mp4',\n",
       " '../Dataset/fsl-143-v1\\\\clips/138\\\\12.mp4',\n",
       " '../Dataset/fsl-143-v1\\\\clips/134\\\\10.mp4',\n",
       " '../Dataset/fsl-143-v1\\\\clips/123\\\\11.mp4',\n",
       " '../Dataset/fsl-143-v1\\\\clips/132\\\\7.mp4',\n",
       " '../Dataset/fsl-143-v1\\\\clips/140\\\\9.mp4',\n",
       " '../Dataset/fsl-143-v1\\\\clips/121\\\\12.mp4',\n",
       " '../Dataset/fsl-143-v1\\\\clips/126\\\\10.mp4',\n",
       " '../Dataset/fsl-143-v1\\\\clips/132\\\\10.mp4',\n",
       " '../Dataset/fsl-143-v1\\\\clips/135\\\\13.mp4',\n",
       " '../Dataset/fsl-143-v1\\\\clips/120\\\\12.mp4',\n",
       " '../Dataset/fsl-143-v1\\\\clips/136\\\\8.mp4',\n",
       " '../Dataset/fsl-143-v1\\\\clips/130\\\\13.mp4',\n",
       " '../Dataset/fsl-143-v1\\\\clips/127\\\\8.mp4',\n",
       " '../Dataset/fsl-143-v1\\\\clips/128\\\\12.mp4',\n",
       " '../Dataset/fsl-143-v1\\\\clips/132\\\\9.mp4',\n",
       " '../Dataset/fsl-143-v1\\\\clips/134\\\\9.mp4',\n",
       " '../Dataset/fsl-143-v1\\\\clips/139\\\\7.mp4',\n",
       " '../Dataset/fsl-143-v1\\\\clips/125\\\\11.mp4',\n",
       " '../Dataset/fsl-143-v1\\\\clips/126\\\\9.mp4',\n",
       " '../Dataset/fsl-143-v1\\\\clips/126\\\\7.mp4',\n",
       " '../Dataset/fsl-143-v1\\\\clips/133\\\\13.mp4',\n",
       " '../Dataset/fsl-143-v1\\\\clips/138\\\\9.mp4',\n",
       " '../Dataset/fsl-143-v1\\\\clips/133\\\\10.mp4',\n",
       " '../Dataset/fsl-143-v1\\\\clips/124\\\\13.mp4',\n",
       " '../Dataset/fsl-143-v1\\\\clips/125\\\\13.mp4',\n",
       " '../Dataset/fsl-143-v1\\\\clips/127\\\\7.mp4',\n",
       " '../Dataset/fsl-143-v1\\\\clips/131\\\\11.mp4',\n",
       " '../Dataset/fsl-143-v1\\\\clips/127\\\\11.mp4',\n",
       " '../Dataset/fsl-143-v1\\\\clips/141\\\\12.mp4',\n",
       " '../Dataset/fsl-143-v1\\\\clips/132\\\\13.mp4',\n",
       " '../Dataset/fsl-143-v1\\\\clips/123\\\\10.mp4',\n",
       " '../Dataset/fsl-143-v1\\\\clips/139\\\\8.mp4',\n",
       " '../Dataset/fsl-143-v1\\\\clips/139\\\\11.mp4',\n",
       " '../Dataset/fsl-143-v1\\\\clips/133\\\\9.mp4',\n",
       " '../Dataset/fsl-143-v1\\\\clips/127\\\\12.mp4',\n",
       " '../Dataset/fsl-143-v1\\\\clips/126\\\\11.mp4',\n",
       " '../Dataset/fsl-143-v1\\\\clips/133\\\\11.mp4',\n",
       " '../Dataset/fsl-143-v1\\\\clips/120\\\\9.mp4',\n",
       " '../Dataset/fsl-143-v1\\\\clips/130\\\\11.mp4',\n",
       " '../Dataset/fsl-143-v1\\\\clips/120\\\\10.mp4',\n",
       " '../Dataset/fsl-143-v1\\\\clips/129\\\\10.mp4',\n",
       " '../Dataset/fsl-143-v1\\\\clips/141\\\\11.mp4',\n",
       " '../Dataset/fsl-143-v1\\\\clips/131\\\\8.mp4',\n",
       " '../Dataset/fsl-143-v1\\\\clips/137\\\\10.mp4',\n",
       " '../Dataset/fsl-143-v1\\\\clips/137\\\\9.mp4',\n",
       " '../Dataset/fsl-143-v1\\\\clips/118\\\\9.mp4',\n",
       " '../Dataset/fsl-143-v1\\\\clips/135\\\\12.mp4',\n",
       " '../Dataset/fsl-143-v1\\\\clips/117\\\\9.mp4',\n",
       " '../Dataset/fsl-143-v1\\\\clips/120\\\\8.mp4',\n",
       " '../Dataset/fsl-143-v1\\\\clips/111\\\\10.mp4',\n",
       " '../Dataset/fsl-143-v1\\\\clips/128\\\\8.mp4',\n",
       " '../Dataset/fsl-143-v1\\\\clips/133\\\\12.mp4',\n",
       " '../Dataset/fsl-143-v1\\\\clips/119\\\\9.mp4',\n",
       " '../Dataset/fsl-143-v1\\\\clips/129\\\\12.mp4',\n",
       " '../Dataset/fsl-143-v1\\\\clips/130\\\\9.mp4',\n",
       " '../Dataset/fsl-143-v1\\\\clips/126\\\\13.mp4',\n",
       " '../Dataset/fsl-143-v1\\\\clips/137\\\\11.mp4',\n",
       " '../Dataset/fsl-143-v1\\\\clips/121\\\\9.mp4',\n",
       " '../Dataset/fsl-143-v1\\\\clips/127\\\\10.mp4',\n",
       " '../Dataset/fsl-143-v1\\\\clips/141\\\\7.mp4',\n",
       " '../Dataset/fsl-143-v1\\\\clips/121\\\\8.mp4',\n",
       " '../Dataset/fsl-143-v1\\\\clips/131\\\\10.mp4',\n",
       " '../Dataset/fsl-143-v1\\\\clips/127\\\\13.mp4',\n",
       " '../Dataset/fsl-143-v1\\\\clips/130\\\\8.mp4',\n",
       " '../Dataset/fsl-143-v1\\\\clips/128\\\\11.mp4',\n",
       " '../Dataset/fsl-143-v1\\\\clips/141\\\\13.mp4',\n",
       " '../Dataset/fsl-143-v1\\\\clips/128\\\\13.mp4',\n",
       " '../Dataset/fsl-143-v1\\\\clips/112\\\\10.mp4',\n",
       " '../Dataset/fsl-143-v1\\\\clips/113\\\\9.mp4',\n",
       " '../Dataset/fsl-143-v1\\\\clips/117\\\\13.mp4',\n",
       " '../Dataset/fsl-143-v1\\\\clips/139\\\\12.mp4',\n",
       " '../Dataset/fsl-143-v1\\\\clips/116\\\\8.mp4',\n",
       " '../Dataset/fsl-143-v1\\\\clips/136\\\\13.mp4',\n",
       " '../Dataset/fsl-143-v1\\\\clips/129\\\\9.mp4',\n",
       " '../Dataset/fsl-143-v1\\\\clips/122\\\\10.mp4',\n",
       " '../Dataset/fsl-143-v1\\\\clips/119\\\\10.mp4',\n",
       " '../Dataset/fsl-143-v1\\\\clips/134\\\\8.mp4',\n",
       " '../Dataset/fsl-143-v1\\\\clips/118\\\\10.mp4',\n",
       " '../Dataset/fsl-143-v1\\\\clips/136\\\\12.mp4',\n",
       " '../Dataset/fsl-143-v1\\\\clips/141\\\\9.mp4',\n",
       " '../Dataset/fsl-143-v1\\\\clips/117\\\\12.mp4',\n",
       " '../Dataset/fsl-143-v1\\\\clips/117\\\\7.mp4',\n",
       " '../Dataset/fsl-143-v1\\\\clips/111\\\\11.mp4',\n",
       " '../Dataset/fsl-143-v1\\\\clips/119\\\\12.mp4',\n",
       " '../Dataset/fsl-143-v1\\\\clips/118\\\\7.mp4',\n",
       " '../Dataset/fsl-143-v1\\\\clips/136\\\\7.mp4',\n",
       " '../Dataset/fsl-143-v1\\\\clips/117\\\\10.mp4',\n",
       " '../Dataset/fsl-143-v1\\\\clips/143\\\\13.mp4',\n",
       " '../Dataset/fsl-143-v1\\\\clips/118\\\\11.mp4',\n",
       " '../Dataset/fsl-143-v1\\\\clips/143\\\\8.mp4',\n",
       " '../Dataset/fsl-143-v1\\\\clips/118\\\\12.mp4',\n",
       " '../Dataset/fsl-143-v1\\\\clips/116\\\\10.mp4',\n",
       " '../Dataset/fsl-143-v1\\\\clips/143\\\\9.mp4',\n",
       " '../Dataset/fsl-143-v1\\\\clips/137\\\\12.mp4',\n",
       " '../Dataset/fsl-143-v1\\\\clips/111\\\\8.mp4',\n",
       " '../Dataset/fsl-143-v1\\\\clips/114\\\\9.mp4',\n",
       " '../Dataset/fsl-143-v1\\\\clips/112\\\\8.mp4',\n",
       " '../Dataset/fsl-143-v1\\\\clips/112\\\\9.mp4',\n",
       " '../Dataset/fsl-143-v1\\\\clips/112\\\\13.mp4',\n",
       " '../Dataset/fsl-143-v1\\\\clips/111\\\\7.mp4',\n",
       " '../Dataset/fsl-143-v1\\\\clips/137\\\\7.mp4',\n",
       " '../Dataset/fsl-143-v1\\\\clips/111\\\\9.mp4',\n",
       " '../Dataset/fsl-143-v1\\\\clips/116\\\\12.mp4',\n",
       " '../Dataset/fsl-143-v1\\\\clips/112\\\\12.mp4',\n",
       " '../Dataset/fsl-143-v1\\\\clips/119\\\\7.mp4',\n",
       " '../Dataset/fsl-143-v1\\\\clips/112\\\\11.mp4',\n",
       " '../Dataset/fsl-143-v1\\\\clips/142\\\\10.mp4',\n",
       " '../Dataset/fsl-143-v1\\\\clips/111\\\\12.mp4',\n",
       " '../Dataset/fsl-143-v1\\\\clips/129\\\\11.mp4',\n",
       " '../Dataset/fsl-143-v1\\\\clips/143\\\\11.mp4',\n",
       " '../Dataset/fsl-143-v1\\\\clips/113\\\\11.mp4',\n",
       " '../Dataset/fsl-143-v1\\\\clips/109\\\\12.mp4',\n",
       " '../Dataset/fsl-143-v1\\\\clips/115\\\\9.mp4',\n",
       " '../Dataset/fsl-143-v1\\\\clips/105\\\\7.mp4',\n",
       " '../Dataset/fsl-143-v1\\\\clips/114\\\\12.mp4',\n",
       " '../Dataset/fsl-143-v1\\\\clips/108\\\\10.mp4',\n",
       " '../Dataset/fsl-143-v1\\\\clips/111\\\\13.mp4',\n",
       " '../Dataset/fsl-143-v1\\\\clips/114\\\\13.mp4',\n",
       " '../Dataset/fsl-143-v1\\\\clips/143\\\\10.mp4',\n",
       " '../Dataset/fsl-143-v1\\\\clips/115\\\\13.mp4',\n",
       " '../Dataset/fsl-143-v1\\\\clips/116\\\\11.mp4',\n",
       " '../Dataset/fsl-143-v1\\\\clips/142\\\\12.mp4',\n",
       " '../Dataset/fsl-143-v1\\\\clips/109\\\\10.mp4',\n",
       " '../Dataset/fsl-143-v1\\\\clips/123\\\\16.mov',\n",
       " '../Dataset/fsl-143-v1\\\\clips/120\\\\18.mov',\n",
       " '../Dataset/fsl-143-v1\\\\clips/107\\\\12.mp4',\n",
       " '../Dataset/fsl-143-v1\\\\clips/109\\\\8.mp4',\n",
       " '../Dataset/fsl-143-v1\\\\clips/143\\\\12.mp4',\n",
       " '../Dataset/fsl-143-v1\\\\clips/107\\\\9.mp4',\n",
       " '../Dataset/fsl-143-v1\\\\clips/109\\\\11.mp4',\n",
       " '../Dataset/fsl-143-v1\\\\clips/118\\\\16.mov',\n",
       " '../Dataset/fsl-143-v1\\\\clips/107\\\\13.mp4',\n",
       " '../Dataset/fsl-143-v1\\\\clips/108\\\\11.mp4',\n",
       " '../Dataset/fsl-143-v1\\\\clips/118\\\\17.mov',\n",
       " '../Dataset/fsl-143-v1\\\\clips/112\\\\7.mp4',\n",
       " '../Dataset/fsl-143-v1\\\\clips/115\\\\11.mp4',\n",
       " '../Dataset/fsl-143-v1\\\\clips/110\\\\11.mp4',\n",
       " '../Dataset/fsl-143-v1\\\\clips/123\\\\19.mov',\n",
       " '../Dataset/fsl-143-v1\\\\clips/124\\\\15.mov',\n",
       " '../Dataset/fsl-143-v1\\\\clips/106\\\\10.mp4',\n",
       " '../Dataset/fsl-143-v1\\\\clips/120\\\\15.mov',\n",
       " '../Dataset/fsl-143-v1\\\\clips/108\\\\9.mp4',\n",
       " '../Dataset/fsl-143-v1\\\\clips/122\\\\11.mp4',\n",
       " '../Dataset/fsl-143-v1\\\\clips/116\\\\7.mp4',\n",
       " '../Dataset/fsl-143-v1\\\\clips/113\\\\13.mp4',\n",
       " '../Dataset/fsl-143-v1\\\\clips/120\\\\19.mov',\n",
       " '../Dataset/fsl-143-v1\\\\clips/119\\\\19.mov',\n",
       " '../Dataset/fsl-143-v1\\\\clips/138\\\\11.mp4',\n",
       " '../Dataset/fsl-143-v1\\\\clips/123\\\\18.mov',\n",
       " '../Dataset/fsl-143-v1\\\\clips/125\\\\12.mp4',\n",
       " '../Dataset/fsl-143-v1\\\\clips/106\\\\12.mp4',\n",
       " '../Dataset/fsl-143-v1\\\\clips/123\\\\15.mov',\n",
       " '../Dataset/fsl-143-v1\\\\clips/118\\\\20.mov',\n",
       " '../Dataset/fsl-143-v1\\\\clips/119\\\\20.mov',\n",
       " '../Dataset/fsl-143-v1\\\\clips/120\\\\7.mp4',\n",
       " '../Dataset/fsl-143-v1\\\\clips/123\\\\17.mov',\n",
       " '../Dataset/fsl-143-v1\\\\clips/105\\\\12.mp4',\n",
       " '../Dataset/fsl-143-v1\\\\clips/138\\\\10.mp4',\n",
       " '../Dataset/fsl-143-v1\\\\clips/124\\\\9.mp4',\n",
       " '../Dataset/fsl-143-v1\\\\clips/121\\\\16.mov',\n",
       " '../Dataset/fsl-143-v1\\\\clips/120\\\\16.mov',\n",
       " '../Dataset/fsl-143-v1\\\\clips/113\\\\7.mp4',\n",
       " '../Dataset/fsl-143-v1\\\\clips/105\\\\13.mp4',\n",
       " '../Dataset/fsl-143-v1\\\\clips/122\\\\15.mov',\n",
       " '../Dataset/fsl-143-v1\\\\clips/140\\\\7.mp4',\n",
       " '../Dataset/fsl-143-v1\\\\clips/120\\\\14.mov',\n",
       " '../Dataset/fsl-143-v1\\\\clips/122\\\\17.mov',\n",
       " '../Dataset/fsl-143-v1\\\\clips/108\\\\12.mp4',\n",
       " '../Dataset/fsl-143-v1\\\\clips/121\\\\20.mov',\n",
       " '../Dataset/fsl-143-v1\\\\clips/121\\\\10.mp4',\n",
       " '../Dataset/fsl-143-v1\\\\clips/132\\\\8.mp4',\n",
       " '../Dataset/fsl-143-v1\\\\clips/130\\\\7.mp4',\n",
       " '../Dataset/fsl-143-v1\\\\clips/124\\\\7.mp4',\n",
       " '../Dataset/fsl-143-v1\\\\clips/106\\\\13.mp4',\n",
       " '../Dataset/fsl-143-v1\\\\clips/107\\\\7.mp4',\n",
       " '../Dataset/fsl-143-v1\\\\clips/122\\\\20.mov',\n",
       " '../Dataset/fsl-143-v1\\\\clips/118\\\\14.mov',\n",
       " '../Dataset/fsl-143-v1\\\\clips/121\\\\19.mov',\n",
       " '../Dataset/fsl-143-v1\\\\clips/133\\\\7.mp4',\n",
       " '../Dataset/fsl-143-v1\\\\clips/121\\\\18.mov',\n",
       " '../Dataset/fsl-143-v1\\\\clips/121\\\\15.mov',\n",
       " '../Dataset/fsl-143-v1\\\\clips/135\\\\7.mp4',\n",
       " '../Dataset/fsl-143-v1\\\\clips/123\\\\7.mp4',\n",
       " '../Dataset/fsl-143-v1\\\\clips/118\\\\18.mov',\n",
       " '../Dataset/fsl-143-v1\\\\clips/125\\\\10.mp4',\n",
       " '../Dataset/fsl-143-v1\\\\clips/128\\\\10.mp4',\n",
       " '../Dataset/fsl-143-v1\\\\clips/110\\\\7.mp4',\n",
       " '../Dataset/fsl-143-v1\\\\clips/120\\\\17.mov',\n",
       " '../Dataset/fsl-143-v1\\\\clips/132\\\\12.mp4',\n",
       " '../Dataset/fsl-143-v1\\\\clips/128\\\\7.mp4',\n",
       " '../Dataset/fsl-143-v1\\\\clips/119\\\\18.mov',\n",
       " '../Dataset/fsl-143-v1\\\\clips/115\\\\12.mp4',\n",
       " '../Dataset/fsl-143-v1\\\\clips/106\\\\11.mp4',\n",
       " '../Dataset/fsl-143-v1\\\\clips/140\\\\13.mp4',\n",
       " '../Dataset/fsl-143-v1\\\\clips/139\\\\9.mp4',\n",
       " '../Dataset/fsl-143-v1\\\\clips/141\\\\10.mp4',\n",
       " '../Dataset/fsl-143-v1\\\\clips/124\\\\11.mp4',\n",
       " '../Dataset/fsl-143-v1\\\\clips/122\\\\16.mov',\n",
       " '../Dataset/fsl-143-v1\\\\clips/118\\\\19.mov',\n",
       " '../Dataset/fsl-143-v1\\\\clips/124\\\\14.mov',\n",
       " '../Dataset/fsl-143-v1\\\\clips/107\\\\8.mp4',\n",
       " '../Dataset/fsl-143-v1\\\\clips/131\\\\9.mp4',\n",
       " '../Dataset/fsl-143-v1\\\\clips/120\\\\20.mov',\n",
       " '../Dataset/fsl-143-v1\\\\clips/117\\\\20.mov',\n",
       " '../Dataset/fsl-143-v1\\\\clips/106\\\\7.mp4',\n",
       " '../Dataset/fsl-143-v1\\\\clips/117\\\\18.mov',\n",
       " '../Dataset/fsl-143-v1\\\\clips/117\\\\17.mov',\n",
       " '../Dataset/fsl-143-v1\\\\clips/122\\\\19.mov',\n",
       " '../Dataset/fsl-143-v1\\\\clips/117\\\\15.mov',\n",
       " '../Dataset/fsl-143-v1\\\\clips/129\\\\7.mp4',\n",
       " '../Dataset/fsl-143-v1\\\\clips/124\\\\19.mov',\n",
       " '../Dataset/fsl-143-v1\\\\clips/118\\\\15.mov',\n",
       " '../Dataset/fsl-143-v1\\\\clips/125\\\\9.mp4',\n",
       " '../Dataset/fsl-143-v1\\\\clips/130\\\\12.mp4',\n",
       " '../Dataset/fsl-143-v1\\\\clips/123\\\\13.mp4',\n",
       " '../Dataset/fsl-143-v1\\\\clips/123\\\\20.mov',\n",
       " '../Dataset/fsl-143-v1\\\\clips/106\\\\8.mp4',\n",
       " '../Dataset/fsl-143-v1\\\\clips/123\\\\12.mp4',\n",
       " '../Dataset/fsl-143-v1\\\\clips/124\\\\17.mov',\n",
       " '../Dataset/fsl-143-v1\\\\clips/124\\\\18.mov',\n",
       " '../Dataset/fsl-143-v1\\\\clips/121\\\\14.mov',\n",
       " '../Dataset/fsl-143-v1\\\\clips/117\\\\19.mov',\n",
       " '../Dataset/fsl-143-v1\\\\clips/105\\\\10.mp4',\n",
       " '../Dataset/fsl-143-v1\\\\clips/123\\\\9.mp4',\n",
       " '../Dataset/fsl-143-v1\\\\clips/122\\\\14.mov',\n",
       " '../Dataset/fsl-143-v1\\\\clips/124\\\\20.mov',\n",
       " '../Dataset/fsl-143-v1\\\\clips/118\\\\13.mp4',\n",
       " '../Dataset/fsl-143-v1\\\\clips/128\\\\9.mp4',\n",
       " '../Dataset/fsl-143-v1\\\\clips/105\\\\9.mp4',\n",
       " '../Dataset/fsl-143-v1\\\\clips/132\\\\17.mov',\n",
       " '../Dataset/fsl-143-v1\\\\clips/122\\\\18.mov',\n",
       " '../Dataset/fsl-143-v1\\\\clips/119\\\\14.mov',\n",
       " '../Dataset/fsl-143-v1\\\\clips/117\\\\11.mp4',\n",
       " '../Dataset/fsl-143-v1\\\\clips/119\\\\16.mov',\n",
       " '../Dataset/fsl-143-v1\\\\clips/140\\\\8.mp4',\n",
       " '../Dataset/fsl-143-v1\\\\clips/135\\\\8.mp4',\n",
       " '../Dataset/fsl-143-v1\\\\clips/141\\\\14.mov',\n",
       " '../Dataset/fsl-143-v1\\\\clips/105\\\\11.mp4',\n",
       " '../Dataset/fsl-143-v1\\\\clips/119\\\\13.mp4',\n",
       " '../Dataset/fsl-143-v1\\\\clips/119\\\\8.mp4',\n",
       " '../Dataset/fsl-143-v1\\\\clips/141\\\\20.mov',\n",
       " '../Dataset/fsl-143-v1\\\\clips/106\\\\15.mov',\n",
       " '../Dataset/fsl-143-v1\\\\clips/126\\\\8.mp4',\n",
       " '../Dataset/fsl-143-v1\\\\clips/129\\\\14.mov',\n",
       " '../Dataset/fsl-143-v1\\\\clips/117\\\\14.mov',\n",
       " '../Dataset/fsl-143-v1\\\\clips/143\\\\20.mov',\n",
       " '../Dataset/fsl-143-v1\\\\clips/138\\\\18.mov',\n",
       " '../Dataset/fsl-143-v1\\\\clips/138\\\\19.mov',\n",
       " '../Dataset/fsl-143-v1\\\\clips/111\\\\15.mov',\n",
       " '../Dataset/fsl-143-v1\\\\clips/122\\\\9.mp4',\n",
       " '../Dataset/fsl-143-v1\\\\clips/136\\\\10.mp4',\n",
       " '../Dataset/fsl-143-v1\\\\clips/142\\\\11.mp4',\n",
       " '../Dataset/fsl-143-v1\\\\clips/124\\\\16.mov',\n",
       " '../Dataset/fsl-143-v1\\\\clips/114\\\\8.mp4',\n",
       " '../Dataset/fsl-143-v1\\\\clips/137\\\\18.mov',\n",
       " '../Dataset/fsl-143-v1\\\\clips/116\\\\20.mov',\n",
       " '../Dataset/fsl-143-v1\\\\clips/138\\\\17.mov',\n",
       " '../Dataset/fsl-143-v1\\\\clips/107\\\\15.mov',\n",
       " '../Dataset/fsl-143-v1\\\\clips/125\\\\14.mov',\n",
       " '../Dataset/fsl-143-v1\\\\clips/106\\\\18.mov',\n",
       " '../Dataset/fsl-143-v1\\\\clips/136\\\\18.mov',\n",
       " '../Dataset/fsl-143-v1\\\\clips/133\\\\8.mp4',\n",
       " '../Dataset/fsl-143-v1\\\\clips/125\\\\19.mov',\n",
       " '../Dataset/fsl-143-v1\\\\clips/129\\\\13.mp4',\n",
       " '../Dataset/fsl-143-v1\\\\clips/141\\\\18.mov',\n",
       " '../Dataset/fsl-143-v1\\\\clips/136\\\\11.mp4',\n",
       " '../Dataset/fsl-143-v1\\\\clips/119\\\\11.mp4',\n",
       " '../Dataset/fsl-143-v1\\\\clips/137\\\\15.mov',\n",
       " '../Dataset/fsl-143-v1\\\\clips/137\\\\16.mov',\n",
       " '../Dataset/fsl-143-v1\\\\clips/134\\\\15.mov',\n",
       " '../Dataset/fsl-143-v1\\\\clips/111\\\\17.mov',\n",
       " '../Dataset/fsl-143-v1\\\\clips/128\\\\18.mov',\n",
       " '../Dataset/fsl-143-v1\\\\clips/120\\\\11.mp4',\n",
       " '../Dataset/fsl-143-v1\\\\clips/139\\\\20.mov',\n",
       " '../Dataset/fsl-143-v1\\\\clips/141\\\\19.mov',\n",
       " '../Dataset/fsl-143-v1\\\\clips/116\\\\19.mov',\n",
       " '../Dataset/fsl-143-v1\\\\clips/129\\\\16.mov',\n",
       " '../Dataset/fsl-143-v1\\\\clips/140\\\\20.mov',\n",
       " '../Dataset/fsl-143-v1\\\\clips/127\\\\19.mov',\n",
       " '../Dataset/fsl-143-v1\\\\clips/137\\\\20.mov',\n",
       " '../Dataset/fsl-143-v1\\\\clips/107\\\\18.mov',\n",
       " '../Dataset/fsl-143-v1\\\\clips/127\\\\20.mov',\n",
       " '../Dataset/fsl-143-v1\\\\clips/117\\\\8.mp4',\n",
       " '../Dataset/fsl-143-v1\\\\clips/140\\\\19.mov',\n",
       " '../Dataset/fsl-143-v1\\\\clips/136\\\\19.mov',\n",
       " '../Dataset/fsl-143-v1\\\\clips/127\\\\14.mov',\n",
       " '../Dataset/fsl-143-v1\\\\clips/130\\\\15.mov',\n",
       " '../Dataset/fsl-143-v1\\\\clips/137\\\\17.mov',\n",
       " '../Dataset/fsl-143-v1\\\\clips/129\\\\20.mov',\n",
       " '../Dataset/fsl-143-v1\\\\clips/138\\\\16.mov',\n",
       " '../Dataset/fsl-143-v1\\\\clips/116\\\\18.mov',\n",
       " '../Dataset/fsl-143-v1\\\\clips/125\\\\18.mov',\n",
       " '../Dataset/fsl-143-v1\\\\clips/134\\\\16.mov',\n",
       " '../Dataset/fsl-143-v1\\\\clips/123\\\\14.mov',\n",
       " '../Dataset/fsl-143-v1\\\\clips/130\\\\20.mov',\n",
       " '../Dataset/fsl-143-v1\\\\clips/118\\\\8.mp4',\n",
       " '../Dataset/fsl-143-v1\\\\clips/125\\\\16.mov',\n",
       " '../Dataset/fsl-143-v1\\\\clips/136\\\\20.mov',\n",
       " '../Dataset/fsl-143-v1\\\\clips/107\\\\14.mov',\n",
       " '../Dataset/fsl-143-v1\\\\clips/111\\\\14.mov',\n",
       " '../Dataset/fsl-143-v1\\\\clips/139\\\\18.mov',\n",
       " '../Dataset/fsl-143-v1\\\\clips/139\\\\15.mov',\n",
       " '../Dataset/fsl-143-v1\\\\clips/130\\\\14.mov',\n",
       " '../Dataset/fsl-143-v1\\\\clips/140\\\\14.mov',\n",
       " '../Dataset/fsl-143-v1\\\\clips/105\\\\18.mov',\n",
       " '../Dataset/fsl-143-v1\\\\clips/108\\\\17.mov',\n",
       " '../Dataset/fsl-143-v1\\\\clips/107\\\\16.mov',\n",
       " '../Dataset/fsl-143-v1\\\\clips/140\\\\15.mov',\n",
       " '../Dataset/fsl-143-v1\\\\clips/126\\\\14.mov',\n",
       " '../Dataset/fsl-143-v1\\\\clips/139\\\\14.mov',\n",
       " '../Dataset/fsl-143-v1\\\\clips/138\\\\20.mov',\n",
       " '../Dataset/fsl-143-v1\\\\clips/116\\\\14.mov',\n",
       " '../Dataset/fsl-143-v1\\\\clips/143\\\\17.mov',\n",
       " '../Dataset/fsl-143-v1\\\\clips/116\\\\17.mov']"
      ]
     },
     "execution_count": 13,
     "metadata": {},
     "output_type": "execute_result"
    }
   ],
   "source": [
    "data.remove_columns(\"keypoints\")\n",
    "data = data.sort(\"keypoints_length\", reverse=True)\n",
    "data[\"file\"]"
   ]
  },
  {
   "cell_type": "code",
   "execution_count": 87,
   "metadata": {},
   "outputs": [
    {
     "name": "stdout",
     "output_type": "stream",
     "text": [
      "tensor([0.0808, 0.6036, 0.2923])\n",
      "tensor([-0.0419,  0.0207, -0.0623])\n"
     ]
    },
    {
     "data": {
      "text/plain": [
       "False"
      ]
     },
     "execution_count": 87,
     "metadata": {},
     "output_type": "execute_result"
    }
   ],
   "source": [
    "max_jitter = torch.tensor([0.1, 0.2, 0.3])\n",
    "random = torch.rand(3) \n",
    "output = random * max_jitter - (max_jitter / 2)\n",
    "\n",
    "print(random)\n",
    "print(output)\n",
    "\n",
    "True if torch.rand(1) < 0.5 else False"
   ]
  },
  {
   "cell_type": "code",
   "execution_count": 13,
   "metadata": {},
   "outputs": [
    {
     "name": "stdout",
     "output_type": "stream",
     "text": [
      "torch.Size([960, 30])\n"
     ]
    }
   ],
   "source": [
    "memory_seq = torch.rand((32, 30, 256))\n",
    "\n",
    "l1 = torch.nn.Linear(256, 30)\n",
    "dropout = torch.nn.Dropout(0.5)\n",
    "\n",
    "output = l1(memory_seq)\n",
    "output = dropout(output)\n",
    "print(output.view(-1,30).shape)"
   ]
  },
  {
   "cell_type": "code",
   "execution_count": 29,
   "metadata": {},
   "outputs": [
    {
     "name": "stdout",
     "output_type": "stream",
     "text": [
      "[[ 0.75  0.25  1.   -1.25  0.5   1.  ]]\n",
      "[[ 0.75  0.25  1.  ]\n",
      " [-1.25  0.5   1.  ]]\n",
      "v\n",
      " [[-0.5  0.5  0. ]\n",
      " [ 2.5  0.1  0. ]]\n",
      "norm_v\n",
      " [0.70710678 2.5019992 ]\n",
      "v\n",
      " [[-0.70710678  0.70710678  0.        ]\n",
      " [ 0.99920096  0.03996804  0.        ]]\n",
      "angles\n",
      " [135.           2.29061004]\n",
      "angles2_einsum\n",
      " [-0.6782801]\n",
      "angle2\n",
      " [132.70938996]\n"
     ]
    }
   ],
   "source": [
    "import numpy as np\n",
    "\n",
    "v1 = np.array([[0.75, 0.25, 1.0, -1.25, 0.5, 1.0]])\n",
    "v2 = np.array([[0.25, 0.75, 1.0, 1.25, 0.6, 1.0]])\n",
    "print(v1)\n",
    "\n",
    "v1 = v1.reshape(-1, 3)\n",
    "v2 = v2.reshape(-1, 3)\n",
    "print(v1)\n",
    "\n",
    "v = v2 - v1\n",
    "print(\"v\\n\", v)\n",
    "\n",
    "norm_v = np.linalg.norm(v, axis=1)\n",
    "print(\"norm_v\\n\", norm_v)\n",
    "\n",
    "v = v / norm_v[:, np.newaxis]\n",
    "print(\"v\\n\", v)\n",
    "\n",
    "angles = np.arctan2(v[:, 1], v[:, 0])\n",
    "print(\"angles\\n\", np.degrees(angles))\n",
    "\n",
    "angles2_einsum = np.einsum(\"nt,nt->n\", v[[0], :], v[[1], :])\n",
    "angle2 = np.arccos(angles2_einsum)\n",
    "print(\"angles2_einsum\\n\", angles2_einsum)\n",
    "print(\"angle2\\n\", np.degrees(angle2))"
   ]
  },
  {
   "cell_type": "code",
   "execution_count": 40,
   "metadata": {},
   "outputs": [
    {
     "data": {
      "text/plain": [
       "array([0.35362763, 0.15047756, 3.14159265, 0.22219561, 0.030502  ,\n",
       "       0.04625128, 0.34867318, 2.34581086, 0.33131318, 0.44008748,\n",
       "       2.34870131, 0.33989232, 0.52922143, 2.09113381, 0.463502  ])"
      ]
     },
     "execution_count": 40,
     "metadata": {},
     "output_type": "execute_result"
    }
   ],
   "source": [
    "dot_products = np.array([\n",
    "    0.93812263,\n",
    "    0.9886996,\n",
    "    -1.000001,\n",
    "    0.97541595,\n",
    "    0.99953485,\n",
    "    0.9989306,\n",
    "    0.93982685,\n",
    "    -0.69972646,\n",
    "    0.945616,\n",
    "    0.9047144,\n",
    "    -0.7017885,\n",
    "    0.94279057,\n",
    "    0.8632004,\n",
    "    -0.49717298,\n",
    "    0.8944923,\n",
    "])\n",
    "\n",
    "dot_products = np.clip(dot_products, -1.0, 1.0)\n",
    "np.arccos(dot_products)"
   ]
  },
  {
   "cell_type": "code",
   "execution_count": 28,
   "metadata": {},
   "outputs": [
    {
     "data": {
      "image/png": "[encoded data removed]",
      "text/plain": [
       "<Figure size 640x480 with 2 Axes>"
      ]
     },
     "metadata": {},
     "output_type": "display_data"
    }
   ],
   "source": [
    "import mediapipe as mp\n",
    "import cv2\n",
    "from matplotlib import pyplot as plt\n",
    "from utils.utils import draw_styled_landmarks, mediapipe_detection\n",
    "\n",
    "mp_holistic = mp.solutions.holistic\n",
    "\n",
    "with mp_holistic.Holistic(\n",
    "  min_detection_confidence=0.5,\n",
    "  min_tracking_confidence=0.5,\n",
    "  model_complexity=2,\n",
    ") as holistic:\n",
    "  cap = cv2.VideoCapture(\"../Dataset/fsl-105/clips/34/19.MOV\")\n",
    "\n",
    "  frames = []\n",
    "  while cap.isOpened():\n",
    "    ret, frame = cap.read()\n",
    "    if not ret:\n",
    "      break\n",
    "    frames.append(frame)\n",
    "\n",
    "\n",
    "  frame_idx = 60 * 3\n",
    "  image, results = mediapipe_detection(frames[frame_idx], holistic)\n",
    "  draw_styled_landmarks(image, results)\n",
    "\n",
    "  flipped_image, results = mediapipe_detection(cv2.flip(frames[frame_idx], 1), holistic)\n",
    "  draw_styled_landmarks(flipped_image, results)\n",
    "\n",
    "  fig, ax = plt.subplots(1,2)\n",
    "  ax[0].imshow(cv2.cvtColor(image, cv2.COLOR_BGR2RGB))\n",
    "  ax[1].imshow(cv2.cvtColor(flipped_image, cv2.COLOR_BGR2RGB))\n",
    "\n"
   ]
  }
 ],
 "metadata": {
  "kernelspec": {
   "display_name": "base",
   "language": "python",
   "name": "python3"
  },
  "language_info": {
   "codemirror_mode": {
    "name": "ipython",
    "version": 3
   },
   "file_extension": ".py",
   "mimetype": "text/x-python",
   "name": "python",
   "nbconvert_exporter": "python",
   "pygments_lexer": "ipython3",
   "version": "3.9.16"
  }
 },
 "nbformat": 4,
 "nbformat_minor": 2
}
