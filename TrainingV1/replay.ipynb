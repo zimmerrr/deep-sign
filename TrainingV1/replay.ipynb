{
 "cells": [
  {
   "cell_type": "code",
   "execution_count": 2,
   "metadata": {},
   "outputs": [
    {
     "name": "stdout",
     "output_type": "stream",
     "text": [
      "Requirement already satisfied: tensorflow in c:\\users\\zimmer\\anaconda3\\envs\\deepsign\\lib\\site-packages (2.16.1)\n",
      "Requirement already satisfied: opencv-python in c:\\users\\zimmer\\anaconda3\\envs\\deepsign\\lib\\site-packages (4.9.0.80)\n",
      "Requirement already satisfied: mediapipe in c:\\users\\zimmer\\anaconda3\\envs\\deepsign\\lib\\site-packages (0.10.11)\n",
      "Requirement already satisfied: scikit-learn in c:\\users\\zimmer\\anaconda3\\envs\\deepsign\\lib\\site-packages (1.4.1.post1)\n",
      "Requirement already satisfied: matplotlib in c:\\users\\zimmer\\anaconda3\\envs\\deepsign\\lib\\site-packages (3.8.4)\n",
      "Requirement already satisfied: tensorflow-intel==2.16.1 in c:\\users\\zimmer\\anaconda3\\envs\\deepsign\\lib\\site-packages (from tensorflow) (2.16.1)\n",
      "Requirement already satisfied: absl-py>=1.0.0 in c:\\users\\zimmer\\anaconda3\\envs\\deepsign\\lib\\site-packages (from tensorflow-intel==2.16.1->tensorflow) (2.1.0)\n",
      "Requirement already satisfied: astunparse>=1.6.0 in c:\\users\\zimmer\\anaconda3\\envs\\deepsign\\lib\\site-packages (from tensorflow-intel==2.16.1->tensorflow) (1.6.3)\n",
      "Requirement already satisfied: flatbuffers>=23.5.26 in c:\\users\\zimmer\\anaconda3\\envs\\deepsign\\lib\\site-packages (from tensorflow-intel==2.16.1->tensorflow) (24.3.25)\n",
      "Requirement already satisfied: gast!=0.5.0,!=0.5.1,!=0.5.2,>=0.2.1 in c:\\users\\zimmer\\anaconda3\\envs\\deepsign\\lib\\site-packages (from tensorflow-intel==2.16.1->tensorflow) (0.5.4)\n",
      "Requirement already satisfied: google-pasta>=0.1.1 in c:\\users\\zimmer\\anaconda3\\envs\\deepsign\\lib\\site-packages (from tensorflow-intel==2.16.1->tensorflow) (0.2.0)\n",
      "Requirement already satisfied: h5py>=3.10.0 in c:\\users\\zimmer\\anaconda3\\envs\\deepsign\\lib\\site-packages (from tensorflow-intel==2.16.1->tensorflow) (3.10.0)\n",
      "Requirement already satisfied: libclang>=13.0.0 in c:\\users\\zimmer\\anaconda3\\envs\\deepsign\\lib\\site-packages (from tensorflow-intel==2.16.1->tensorflow) (18.1.1)\n",
      "Requirement already satisfied: ml-dtypes~=0.3.1 in c:\\users\\zimmer\\anaconda3\\envs\\deepsign\\lib\\site-packages (from tensorflow-intel==2.16.1->tensorflow) (0.3.2)\n",
      "Requirement already satisfied: opt-einsum>=2.3.2 in c:\\users\\zimmer\\anaconda3\\envs\\deepsign\\lib\\site-packages (from tensorflow-intel==2.16.1->tensorflow) (3.3.0)\n",
      "Requirement already satisfied: packaging in c:\\users\\zimmer\\anaconda3\\envs\\deepsign\\lib\\site-packages (from tensorflow-intel==2.16.1->tensorflow) (24.0)\n",
      "Requirement already satisfied: protobuf!=4.21.0,!=4.21.1,!=4.21.2,!=4.21.3,!=4.21.4,!=4.21.5,<5.0.0dev,>=3.20.3 in c:\\users\\zimmer\\anaconda3\\envs\\deepsign\\lib\\site-packages (from tensorflow-intel==2.16.1->tensorflow) (3.20.3)\n",
      "Requirement already satisfied: requests<3,>=2.21.0 in c:\\users\\zimmer\\anaconda3\\envs\\deepsign\\lib\\site-packages (from tensorflow-intel==2.16.1->tensorflow) (2.31.0)\n",
      "Requirement already satisfied: setuptools in c:\\users\\zimmer\\anaconda3\\envs\\deepsign\\lib\\site-packages (from tensorflow-intel==2.16.1->tensorflow) (68.2.2)\n",
      "Requirement already satisfied: six>=1.12.0 in c:\\users\\zimmer\\anaconda3\\envs\\deepsign\\lib\\site-packages (from tensorflow-intel==2.16.1->tensorflow) (1.16.0)\n",
      "Requirement already satisfied: termcolor>=1.1.0 in c:\\users\\zimmer\\anaconda3\\envs\\deepsign\\lib\\site-packages (from tensorflow-intel==2.16.1->tensorflow) (2.4.0)\n",
      "Requirement already satisfied: typing-extensions>=3.6.6 in c:\\users\\zimmer\\anaconda3\\envs\\deepsign\\lib\\site-packages (from tensorflow-intel==2.16.1->tensorflow) (4.11.0)\n",
      "Requirement already satisfied: wrapt>=1.11.0 in c:\\users\\zimmer\\anaconda3\\envs\\deepsign\\lib\\site-packages (from tensorflow-intel==2.16.1->tensorflow) (1.16.0)\n",
      "Requirement already satisfied: grpcio<2.0,>=1.24.3 in c:\\users\\zimmer\\anaconda3\\envs\\deepsign\\lib\\site-packages (from tensorflow-intel==2.16.1->tensorflow) (1.62.1)\n",
      "Requirement already satisfied: tensorboard<2.17,>=2.16 in c:\\users\\zimmer\\anaconda3\\envs\\deepsign\\lib\\site-packages (from tensorflow-intel==2.16.1->tensorflow) (2.16.2)\n",
      "Requirement already satisfied: keras>=3.0.0 in c:\\users\\zimmer\\anaconda3\\envs\\deepsign\\lib\\site-packages (from tensorflow-intel==2.16.1->tensorflow) (3.1.1)\n",
      "Requirement already satisfied: tensorflow-io-gcs-filesystem>=0.23.1 in c:\\users\\zimmer\\anaconda3\\envs\\deepsign\\lib\\site-packages (from tensorflow-intel==2.16.1->tensorflow) (0.31.0)\n",
      "Requirement already satisfied: numpy<2.0.0,>=1.23.5 in c:\\users\\zimmer\\anaconda3\\envs\\deepsign\\lib\\site-packages (from tensorflow-intel==2.16.1->tensorflow) (1.26.4)\n",
      "Requirement already satisfied: attrs>=19.1.0 in c:\\users\\zimmer\\anaconda3\\envs\\deepsign\\lib\\site-packages (from mediapipe) (23.2.0)\n",
      "Requirement already satisfied: jax in c:\\users\\zimmer\\anaconda3\\envs\\deepsign\\lib\\site-packages (from mediapipe) (0.4.26)\n",
      "Requirement already satisfied: opencv-contrib-python in c:\\users\\zimmer\\anaconda3\\envs\\deepsign\\lib\\site-packages (from mediapipe) (4.9.0.80)\n",
      "Requirement already satisfied: sounddevice>=0.4.4 in c:\\users\\zimmer\\anaconda3\\envs\\deepsign\\lib\\site-packages (from mediapipe) (0.4.6)\n",
      "Requirement already satisfied: scipy>=1.6.0 in c:\\users\\zimmer\\anaconda3\\envs\\deepsign\\lib\\site-packages (from scikit-learn) (1.13.0)\n",
      "Requirement already satisfied: joblib>=1.2.0 in c:\\users\\zimmer\\anaconda3\\envs\\deepsign\\lib\\site-packages (from scikit-learn) (1.3.2)\n",
      "Requirement already satisfied: threadpoolctl>=2.0.0 in c:\\users\\zimmer\\anaconda3\\envs\\deepsign\\lib\\site-packages (from scikit-learn) (3.4.0)\n",
      "Requirement already satisfied: contourpy>=1.0.1 in c:\\users\\zimmer\\anaconda3\\envs\\deepsign\\lib\\site-packages (from matplotlib) (1.2.1)\n",
      "Requirement already satisfied: cycler>=0.10 in c:\\users\\zimmer\\anaconda3\\envs\\deepsign\\lib\\site-packages (from matplotlib) (0.12.1)\n",
      "Requirement already satisfied: fonttools>=4.22.0 in c:\\users\\zimmer\\anaconda3\\envs\\deepsign\\lib\\site-packages (from matplotlib) (4.51.0)\n",
      "Requirement already satisfied: kiwisolver>=1.3.1 in c:\\users\\zimmer\\anaconda3\\envs\\deepsign\\lib\\site-packages (from matplotlib) (1.4.5)\n",
      "Requirement already satisfied: pillow>=8 in c:\\users\\zimmer\\anaconda3\\envs\\deepsign\\lib\\site-packages (from matplotlib) (10.3.0)\n",
      "Requirement already satisfied: pyparsing>=2.3.1 in c:\\users\\zimmer\\anaconda3\\envs\\deepsign\\lib\\site-packages (from matplotlib) (3.1.2)\n",
      "Requirement already satisfied: python-dateutil>=2.7 in c:\\users\\zimmer\\anaconda3\\envs\\deepsign\\lib\\site-packages (from matplotlib) (2.9.0)\n",
      "Requirement already satisfied: CFFI>=1.0 in c:\\users\\zimmer\\anaconda3\\envs\\deepsign\\lib\\site-packages (from sounddevice>=0.4.4->mediapipe) (1.16.0)\n",
      "Requirement already satisfied: wheel<1.0,>=0.23.0 in c:\\users\\zimmer\\anaconda3\\envs\\deepsign\\lib\\site-packages (from astunparse>=1.6.0->tensorflow-intel==2.16.1->tensorflow) (0.41.2)\n",
      "Requirement already satisfied: pycparser in c:\\users\\zimmer\\anaconda3\\envs\\deepsign\\lib\\site-packages (from CFFI>=1.0->sounddevice>=0.4.4->mediapipe) (2.22)\n",
      "Requirement already satisfied: rich in c:\\users\\zimmer\\anaconda3\\envs\\deepsign\\lib\\site-packages (from keras>=3.0.0->tensorflow-intel==2.16.1->tensorflow) (13.7.1)\n",
      "Requirement already satisfied: namex in c:\\users\\zimmer\\anaconda3\\envs\\deepsign\\lib\\site-packages (from keras>=3.0.0->tensorflow-intel==2.16.1->tensorflow) (0.0.7)\n",
      "Requirement already satisfied: optree in c:\\users\\zimmer\\anaconda3\\envs\\deepsign\\lib\\site-packages (from keras>=3.0.0->tensorflow-intel==2.16.1->tensorflow) (0.11.0)\n",
      "Requirement already satisfied: charset-normalizer<4,>=2 in c:\\users\\zimmer\\anaconda3\\envs\\deepsign\\lib\\site-packages (from requests<3,>=2.21.0->tensorflow-intel==2.16.1->tensorflow) (3.3.2)\n",
      "Requirement already satisfied: idna<4,>=2.5 in c:\\users\\zimmer\\anaconda3\\envs\\deepsign\\lib\\site-packages (from requests<3,>=2.21.0->tensorflow-intel==2.16.1->tensorflow) (3.6)\n",
      "Requirement already satisfied: urllib3<3,>=1.21.1 in c:\\users\\zimmer\\anaconda3\\envs\\deepsign\\lib\\site-packages (from requests<3,>=2.21.0->tensorflow-intel==2.16.1->tensorflow) (2.2.1)\n",
      "Requirement already satisfied: certifi>=2017.4.17 in c:\\users\\zimmer\\anaconda3\\envs\\deepsign\\lib\\site-packages (from requests<3,>=2.21.0->tensorflow-intel==2.16.1->tensorflow) (2024.2.2)\n",
      "Requirement already satisfied: markdown>=2.6.8 in c:\\users\\zimmer\\anaconda3\\envs\\deepsign\\lib\\site-packages (from tensorboard<2.17,>=2.16->tensorflow-intel==2.16.1->tensorflow) (3.6)\n",
      "Requirement already satisfied: tensorboard-data-server<0.8.0,>=0.7.0 in c:\\users\\zimmer\\anaconda3\\envs\\deepsign\\lib\\site-packages (from tensorboard<2.17,>=2.16->tensorflow-intel==2.16.1->tensorflow) (0.7.2)\n",
      "Requirement already satisfied: werkzeug>=1.0.1 in c:\\users\\zimmer\\anaconda3\\envs\\deepsign\\lib\\site-packages (from tensorboard<2.17,>=2.16->tensorflow-intel==2.16.1->tensorflow) (3.0.2)\n",
      "Requirement already satisfied: MarkupSafe>=2.1.1 in c:\\users\\zimmer\\anaconda3\\envs\\deepsign\\lib\\site-packages (from werkzeug>=1.0.1->tensorboard<2.17,>=2.16->tensorflow-intel==2.16.1->tensorflow) (2.1.5)\n",
      "Requirement already satisfied: markdown-it-py>=2.2.0 in c:\\users\\zimmer\\anaconda3\\envs\\deepsign\\lib\\site-packages (from rich->keras>=3.0.0->tensorflow-intel==2.16.1->tensorflow) (3.0.0)\n",
      "Requirement already satisfied: pygments<3.0.0,>=2.13.0 in c:\\users\\zimmer\\anaconda3\\envs\\deepsign\\lib\\site-packages (from rich->keras>=3.0.0->tensorflow-intel==2.16.1->tensorflow) (2.17.2)\n",
      "Requirement already satisfied: mdurl~=0.1 in c:\\users\\zimmer\\anaconda3\\envs\\deepsign\\lib\\site-packages (from markdown-it-py>=2.2.0->rich->keras>=3.0.0->tensorflow-intel==2.16.1->tensorflow) (0.1.2)\n",
      "Note: you may need to restart the kernel to use updated packages.\n"
     ]
    }
   ],
   "source": [
    "%pip install tensorflow opencv-python mediapipe scikit-learn matplotlib"
   ]
  },
  {
   "cell_type": "code",
   "execution_count": 3,
   "metadata": {},
   "outputs": [],
   "source": [
    "import cv2\n",
    "import numpy as np\n",
    "import os\n",
    "from matplotlib import pyplot as plt\n",
    "import mediapipe as mp"
   ]
  },
  {
   "cell_type": "code",
   "execution_count": 4,
   "metadata": {},
   "outputs": [],
   "source": [
    "mp_holistic = mp.solutions.holistic # Holistic model\n",
    "mp_drawing = mp.solutions.drawing_utils # Drawing utilities"
   ]
  },
  {
   "cell_type": "code",
   "execution_count": 5,
   "metadata": {},
   "outputs": [],
   "source": [
    "def mediapipe_detection(image, model):\n",
    "    image = cv2.cvtColor(image, cv2.COLOR_BGR2RGB) # COLOR CONVERSION BGR 2 RGB\n",
    "    image.flags.writeable = False                  # Image is no longer writeable\n",
    "    results = model.process(image)                 # Make prediction\n",
    "    image.flags.writeable = True                   # Image is now writeable \n",
    "    image = cv2.cvtColor(image, cv2.COLOR_RGB2BGR) # COLOR COVERSION RGB 2 BGR\n",
    "    return image, results"
   ]
  },
  {
   "cell_type": "code",
   "execution_count": 6,
   "metadata": {},
   "outputs": [],
   "source": [
    "def draw_landmarks(results):\n",
    "    canvas = np.zeros((480, 640, 3), dtype=np.uint8)  \n",
    "    mp_drawing.draw_landmarks(canvas, results.face_landmarks, mp_holistic.FACEMESH_TESSELATION) # Draw face connections\n",
    "    mp_drawing.draw_landmarks(canvas, results.pose_landmarks, mp_holistic.POSE_CONNECTIONS) # Draw pose connections\n",
    "    mp_drawing.draw_landmarks(canvas, results.left_hand_landmarks, mp_holistic.HAND_CONNECTIONS) # Draw left hand connections\n",
    "    mp_drawing.draw_landmarks(canvas, results.right_hand_landmarks, mp_holistic.HAND_CONNECTIONS) # Draw right hand connections"
   ]
  },
  {
   "cell_type": "code",
   "execution_count": 7,
   "metadata": {},
   "outputs": [],
   "source": [
    "def draw_styled_landmarks(results):\n",
    "    canvas = np.zeros((480, 640, 3), dtype=np.uint8)  \n",
    "    # Draw face connections\n",
    "    mp_drawing.draw_landmarks(canvas, results.face_landmarks, mp_holistic.FACEMESH_TESSELATION, \n",
    "                             mp_drawing.DrawingSpec(color=(80,110,10), thickness=1, circle_radius=1), \n",
    "                             mp_drawing.DrawingSpec(color=(80,256,121), thickness=1, circle_radius=1)\n",
    "                             ) \n",
    "    # Draw pose connections\n",
    "    mp_drawing.draw_landmarks(canvas, results.pose_landmarks, mp_holistic.POSE_CONNECTIONS,\n",
    "                             mp_drawing.DrawingSpec(color=(80,22,10), thickness=2, circle_radius=4), \n",
    "                             mp_drawing.DrawingSpec(color=(80,44,121), thickness=2, circle_radius=2)\n",
    "                             ) \n",
    "    # Draw left hand connections\n",
    "    mp_drawing.draw_landmarks(canvas, results.left_hand_landmarks, mp_holistic.HAND_CONNECTIONS, \n",
    "                             mp_drawing.DrawingSpec(color=(121,22,76), thickness=2, circle_radius=4), \n",
    "                             mp_drawing.DrawingSpec(color=(121,44,250), thickness=2, circle_radius=2)\n",
    "                             ) \n",
    "    # Draw right hand connections  \n",
    "    mp_drawing.draw_landmarks(canvas, results.right_hand_landmarks, mp_holistic.HAND_CONNECTIONS, \n",
    "                             mp_drawing.DrawingSpec(color=(245,117,66), thickness=2, circle_radius=4), \n",
    "                             mp_drawing.DrawingSpec(color=(245,66,230), thickness=2, circle_radius=2)\n",
    "                             ) "
   ]
  },
  {
   "cell_type": "code",
   "execution_count": 8,
   "metadata": {},
   "outputs": [],
   "source": [
    "# Path for exported data, numpy arrays\n",
    "DATA_PATH = os.path.join('Data') \n",
    "\n",
    "# Thirty videos worth of data\n",
    "no_sequences = 30\n",
    "\n",
    "# Videos are going to be 30 frames in length\n",
    "sequence_length = 30\n",
    "\n",
    "# Folder start\n",
    "start_folder = 1"
   ]
  },
  {
   "cell_type": "code",
   "execution_count": 9,
   "metadata": {},
   "outputs": [],
   "source": [
    "# Actions that we try to detect\n",
    "actions = np.array([ 'hello', 'thanks', 'iloveyou', 'idle'])\n"
   ]
  },
  {
   "cell_type": "code",
   "execution_count": 10,
   "metadata": {},
   "outputs": [
    {
     "name": "stdout",
     "output_type": "stream",
     "text": [
      "[ 0.63975501  0.58367944 -0.48085481 ...  0.44882521  1.07123828\n",
      " -0.05499958]\n",
      "[ 0.64052904  0.58755535 -0.69472933 ...  0.          0.\n",
      "  0.        ]\n",
      "[ 0.64067948  0.59083658 -0.6315366  ...  0.          0.\n",
      "  0.        ]\n",
      "[ 0.64130574  0.59343398 -0.67099935 ...  0.          0.\n",
      "  0.        ]\n",
      "[ 0.64196163  0.59612548 -0.66437876 ...  0.          0.\n",
      "  0.        ]\n",
      "[ 0.6422199   0.59702319 -0.58191925 ...  0.46078178  0.77617764\n",
      " -0.04040663]\n",
      "[ 0.64250374  0.59840924 -0.53463829 ...  0.45965603  0.77839237\n",
      " -0.04215766]\n",
      "[ 0.64290839  0.59795409 -0.53956926 ...  0.44748589  0.80570161\n",
      " -0.03532321]\n",
      "[ 0.6432454   0.59661508 -0.52113879 ...  0.44300038  0.78965855\n",
      " -0.04434146]\n",
      "[ 0.64177918  0.59584755 -0.52636135 ...  0.          0.\n",
      "  0.        ]\n",
      "[ 0.63766158  0.59574693 -0.52369899 ...  0.48802245  0.5028587\n",
      " -0.03861732]\n",
      "[ 0.63530451  0.59571272 -0.52733737 ...  0.50307256  0.49507347\n",
      " -0.02313907]\n",
      "[ 0.63150924  0.59563148 -0.52907205 ...  0.52850688  0.48070002\n",
      " -0.02186298]\n",
      "[ 0.63164335  0.5958122  -0.5390085  ...  0.51794392  0.47082889\n",
      " -0.02202223]\n",
      "[ 0.63254249  0.59570301 -0.53339118 ...  0.45050949  0.4717629\n",
      " -0.02898434]\n",
      "[ 0.63671285  0.59565574 -0.53888702 ...  0.42889011  0.45347351\n",
      " -0.01662036]\n",
      "[ 0.64414132  0.59349561 -0.54553932 ...  0.34132946  0.41568437\n",
      " -0.02635461]\n",
      "[ 0.64843357  0.59184963 -0.5628131  ...  0.3271805   0.42062008\n",
      " -0.02365961]\n",
      "[ 0.6520403   0.59108615 -0.55825293 ...  0.30718455  0.41633278\n",
      " -0.02695661]\n",
      "[ 0.65300566  0.58913898 -0.55676281 ...  0.30718556  0.41645789\n",
      " -0.02848262]\n",
      "[ 0.65428692  0.58771682 -0.55095685 ...  0.30857715  0.4169662\n",
      " -0.02824104]\n",
      "[ 0.65485513  0.58713591 -0.54498732 ...  0.31411961  0.41307595\n",
      " -0.02828547]\n",
      "[ 0.6554563   0.58663172 -0.53863668 ...  0.31577709  0.41322148\n",
      " -0.02802624]\n",
      "[ 0.65611309  0.5866341  -0.53989249 ...  0.32056636  0.41077745\n",
      " -0.02893268]\n",
      "[ 0.65591425  0.58636862 -0.52580857 ...  0.32271469  0.41343141\n",
      " -0.02867664]\n",
      "[ 0.65576768  0.58614403 -0.51157564 ...  0.32393894  0.4140577\n",
      " -0.02879765]\n",
      "[ 0.6556536   0.58583081 -0.51440603 ...  0.32382601  0.41416097\n",
      " -0.02722102]\n",
      "[ 0.65555823  0.58577842 -0.5203402  ...  0.32485121  0.41567442\n",
      " -0.0289817 ]\n",
      "[ 0.65552837  0.58565998 -0.52168196 ...  0.32504615  0.4163208\n",
      " -0.02968561]\n",
      "[ 0.65545309  0.58594722 -0.54195046 ...  0.32470611  0.41576099\n",
      " -0.02934352]\n"
     ]
    }
   ],
   "source": [
    "for frames in range(sequence_length):\n",
    "    filepath = f'../Data/hello/1/{frames}.npy'  # Build the filepath\n",
    "    result = np.load(filepath)\n",
    "    print(result)"
   ]
  },
  {
   "cell_type": "code",
   "execution_count": 1,
   "metadata": {},
   "outputs": [
    {
     "ename": "NameError",
     "evalue": "name 'np' is not defined",
     "output_type": "error",
     "traceback": [
      "\u001b[1;31m---------------------------------------------------------------------------\u001b[0m",
      "\u001b[1;31mNameError\u001b[0m                                 Traceback (most recent call last)",
      "Cell \u001b[1;32mIn[1], line 2\u001b[0m\n\u001b[0;32m      1\u001b[0m filepath \u001b[38;5;241m=\u001b[39m \u001b[38;5;124mf\u001b[39m\u001b[38;5;124m'\u001b[39m\u001b[38;5;124m../Data//0.npy\u001b[39m\u001b[38;5;124m'\u001b[39m  \u001b[38;5;66;03m# Build the filepath\u001b[39;00m\n\u001b[1;32m----> 2\u001b[0m result \u001b[38;5;241m=\u001b[39m \u001b[43mnp\u001b[49m\u001b[38;5;241m.\u001b[39mload(filepath)\n\u001b[0;32m      3\u001b[0m \u001b[38;5;28mprint\u001b[39m(result)\n\u001b[0;32m      4\u001b[0m \u001b[38;5;66;03m# draw_landmarks(result)\u001b[39;00m\n",
      "\u001b[1;31mNameError\u001b[0m: name 'np' is not defined"
     ]
    }
   ],
   "source": [
    "filepath = f'../Data//0.npy'  # Build the filepath\n",
    "result = np.load(filepath)\n",
    "print(result)\n",
    "# draw_landmarks(result)"
   ]
  },
  {
   "cell_type": "code",
   "execution_count": null,
   "metadata": {},
   "outputs": [],
   "source": []
  }
 ],
 "metadata": {
  "kernelspec": {
   "display_name": "deepsign",
   "language": "python",
   "name": "python3"
  },
  "language_info": {
   "codemirror_mode": {
    "name": "ipython",
    "version": 3
   },
   "file_extension": ".py",
   "mimetype": "text/x-python",
   "name": "python",
   "nbconvert_exporter": "python",
   "pygments_lexer": "ipython3",
   "version": "3.10.14"
  }
 },
 "nbformat": 4,
 "nbformat_minor": 2
}
